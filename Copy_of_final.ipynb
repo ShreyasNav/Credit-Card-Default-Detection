{
  "nbformat": 4,
  "nbformat_minor": 0,
  "metadata": {
    "colab": {
      "provenance": []
    },
    "kernelspec": {
      "name": "python3",
      "display_name": "Python 3"
    },
    "language_info": {
      "name": "python"
    }
  },
  "cells": [
    {
      "cell_type": "markdown",
      "source": [
        "# Imports\n"
      ],
      "metadata": {
        "id": "BBRmt4WWybqn"
      }
    },
    {
      "cell_type": "code",
      "execution_count": null,
      "metadata": {
        "id": "tHQMxA2esHVU"
      },
      "outputs": [],
      "source": [
        "import pandas as pd\n",
        "import matplotlib.pyplot as plt\n",
        "import seaborn as sns"
      ]
    },
    {
      "cell_type": "code",
      "source": [
        "import pandas as pd\n",
        "import matplotlib.pyplot as plt\n",
        "from sklearn.decomposition import PCA\n",
        "from sklearn.preprocessing import StandardScaler\n",
        "import numpy as np\n",
        "from sklearn.impute import KNNImputer\n",
        "from sklearn.metrics import classification_report, confusion_matrix, roc_auc_score"
      ],
      "metadata": {
        "id": "nhPtF9W8yQnw"
      },
      "execution_count": null,
      "outputs": []
    },
    {
      "cell_type": "code",
      "source": [
        "pip install catboost"
      ],
      "metadata": {
        "colab": {
          "base_uri": "https://localhost:8080/"
        },
        "id": "-pVmRcE9q1oM",
        "outputId": "61799899-da21-4ebf-c5ec-2a6651aad61a"
      },
      "execution_count": null,
      "outputs": [
        {
          "output_type": "stream",
          "name": "stdout",
          "text": [
            "Collecting catboost\n",
            "  Downloading catboost-1.2.7-cp310-cp310-manylinux2014_x86_64.whl.metadata (1.2 kB)\n",
            "Requirement already satisfied: graphviz in /usr/local/lib/python3.10/dist-packages (from catboost) (0.20.3)\n",
            "Requirement already satisfied: matplotlib in /usr/local/lib/python3.10/dist-packages (from catboost) (3.8.0)\n",
            "Requirement already satisfied: numpy<2.0,>=1.16.0 in /usr/local/lib/python3.10/dist-packages (from catboost) (1.26.4)\n",
            "Requirement already satisfied: pandas>=0.24 in /usr/local/lib/python3.10/dist-packages (from catboost) (2.2.2)\n",
            "Requirement already satisfied: scipy in /usr/local/lib/python3.10/dist-packages (from catboost) (1.13.1)\n",
            "Requirement already satisfied: plotly in /usr/local/lib/python3.10/dist-packages (from catboost) (5.24.1)\n",
            "Requirement already satisfied: six in /usr/local/lib/python3.10/dist-packages (from catboost) (1.17.0)\n",
            "Requirement already satisfied: python-dateutil>=2.8.2 in /usr/local/lib/python3.10/dist-packages (from pandas>=0.24->catboost) (2.8.2)\n",
            "Requirement already satisfied: pytz>=2020.1 in /usr/local/lib/python3.10/dist-packages (from pandas>=0.24->catboost) (2024.2)\n",
            "Requirement already satisfied: tzdata>=2022.7 in /usr/local/lib/python3.10/dist-packages (from pandas>=0.24->catboost) (2024.2)\n",
            "Requirement already satisfied: contourpy>=1.0.1 in /usr/local/lib/python3.10/dist-packages (from matplotlib->catboost) (1.3.1)\n",
            "Requirement already satisfied: cycler>=0.10 in /usr/local/lib/python3.10/dist-packages (from matplotlib->catboost) (0.12.1)\n",
            "Requirement already satisfied: fonttools>=4.22.0 in /usr/local/lib/python3.10/dist-packages (from matplotlib->catboost) (4.55.3)\n",
            "Requirement already satisfied: kiwisolver>=1.0.1 in /usr/local/lib/python3.10/dist-packages (from matplotlib->catboost) (1.4.7)\n",
            "Requirement already satisfied: packaging>=20.0 in /usr/local/lib/python3.10/dist-packages (from matplotlib->catboost) (24.2)\n",
            "Requirement already satisfied: pillow>=6.2.0 in /usr/local/lib/python3.10/dist-packages (from matplotlib->catboost) (11.0.0)\n",
            "Requirement already satisfied: pyparsing>=2.3.1 in /usr/local/lib/python3.10/dist-packages (from matplotlib->catboost) (3.2.0)\n",
            "Requirement already satisfied: tenacity>=6.2.0 in /usr/local/lib/python3.10/dist-packages (from plotly->catboost) (9.0.0)\n",
            "Downloading catboost-1.2.7-cp310-cp310-manylinux2014_x86_64.whl (98.7 MB)\n",
            "\u001b[2K   \u001b[90m━━━━━━━━━━━━━━━━━━━━━━━━━━━━━━━━━━━━━━━━\u001b[0m \u001b[32m98.7/98.7 MB\u001b[0m \u001b[31m6.4 MB/s\u001b[0m eta \u001b[36m0:00:00\u001b[0m\n",
            "\u001b[?25hInstalling collected packages: catboost\n",
            "Successfully installed catboost-1.2.7\n"
          ]
        }
      ]
    },
    {
      "cell_type": "code",
      "source": [
        "import numpy as np\n",
        "from sklearn.model_selection import train_test_split\n",
        "from sklearn.metrics import roc_auc_score, log_loss, mean_absolute_error\n",
        "from lightgbm import LGBMClassifier\n",
        "from xgboost import XGBClassifier\n",
        "from catboost import CatBoostClassifier\n",
        "import pandas as pd"
      ],
      "metadata": {
        "id": "YrHZNDoyqwgr"
      },
      "execution_count": null,
      "outputs": []
    },
    {
      "cell_type": "code",
      "source": [
        "import pandas as pd\n",
        "import torch\n",
        "import torch.nn as nn\n",
        "import torch.optim as optim\n",
        "from sklearn.model_selection import train_test_split\n",
        "from sklearn.preprocessing import StandardScaler\n",
        "from sklearn.metrics import mean_squared_error\n",
        "import matplotlib.pyplot as plt\n"
      ],
      "metadata": {
        "id": "Ae4hrr2IXDi4"
      },
      "execution_count": null,
      "outputs": []
    },
    {
      "cell_type": "markdown",
      "source": [
        "# Functions"
      ],
      "metadata": {
        "id": "jxl1lZhNyfAt"
      }
    },
    {
      "cell_type": "code",
      "source": [
        "def fill_missing(features, fill_method='mean'):\n",
        "    if fill_method in [\"mean\", \"median\"]:\n",
        "        for col in features.columns:\n",
        "            if fill_method == \"mean\":\n",
        "                features[col] = features[col].fillna(features[col].mean())\n",
        "            elif fill_method == \"median\":\n",
        "                features[col] = features[col].fillna(features[col].median())\n",
        "    elif fill_method == \"knn\":\n",
        "        from sklearn.impute import KNNImputer\n",
        "        imputer = KNNImputer(n_neighbors=5)\n",
        "        features = pd.DataFrame(imputer.fit_transform(features), columns=features.columns)\n"
      ],
      "metadata": {
        "id": "LG-xbUwcyQAa"
      },
      "execution_count": null,
      "outputs": []
    },
    {
      "cell_type": "code",
      "source": [
        "def calculate_woe_iv(data, feature, target):\n",
        "    bins = pd.qcut(data[feature], q=10, duplicates='drop')\n",
        "    grouped = data.groupby(bins, observed=False)\n",
        "\n",
        "    good = grouped[target].apply(lambda x: x[x == 0].count())\n",
        "    bad = grouped[target].apply(lambda x: x[x == 1].count())\n",
        "    total_good = good.sum()\n",
        "    total_bad = bad.sum()\n",
        "\n",
        "    good_ratio = good / total_good\n",
        "    bad_ratio = bad / total_bad\n",
        "    bad_ratio = bad_ratio.replace(0, 0.0001)\n",
        "    good_ratio = good_ratio.replace(0, 0.0001)\n",
        "\n",
        "    woe = np.log(good_ratio / bad_ratio)\n",
        "    iv = (good_ratio - bad_ratio) * woe\n",
        "\n",
        "    return woe, iv.sum()\n",
        "\n",
        "\n",
        "def preprocess_and_select_features(df, target_column, thresh):\n",
        "    data = df\n",
        "\n",
        "    # Separate target and features\n",
        "    target = data[target_column]\n",
        "    features = data.drop(columns=[target_column])\n",
        "\n",
        "    # Calculate IV for each feature\n",
        "    iv_scores = {}\n",
        "    for col in features.columns:\n",
        "        try:\n",
        "            _, iv = calculate_woe_iv(pd.concat([features, target], axis=1), col, target_column)\n",
        "            iv_scores[col] = iv\n",
        "        except:\n",
        "            iv_scores[col] = 0\n",
        "\n",
        "    # Sort features by IV and remove the ones which score below a particular threshold\n",
        "    selected_features = [feature for feature, iv in iv_scores.items() if iv >= thresh]\n",
        "\n",
        "    # Include selected features and the target column\n",
        "    reduced_data = pd.concat([features[selected_features], target], axis=1)\n",
        "\n",
        "    # Create a DataFrame from iv_scores dictionary\n",
        "    iv_df = pd.DataFrame(list(iv_scores.items()), columns=[\"Feature\", \"IV\"])\n",
        "\n",
        "    return reduced_data, iv_df\n",
        "\n",
        "\n"
      ],
      "metadata": {
        "id": "x6d_R59ZzydQ"
      },
      "execution_count": null,
      "outputs": []
    },
    {
      "cell_type": "code",
      "source": [
        "def preprocess(data):\n",
        "  data = data.loc[:, data.nunique() > 1] #dropping all cols with only one unique value\n",
        "  missing_percentage=(data.isnull().sum()/len(data))*100\n",
        "  print(\"missing percentages:\")\n",
        "  print(missing_percentage)\n",
        "  columns_to_drop = missing_percentage[missing_percentage > 80].index #dropping all cols with more than 80% missing values\n",
        "  data = data.drop(columns=columns_to_drop)\n",
        "  fill_missing(data, fill_method='mean') #filling the missing values with mean\n",
        "  data.to_csv('filled_data.csv',index=False) #saving preprocessed data to csv file\n",
        "  target_column = \"bad_flag\"\n",
        "  data, iv_df = preprocess_and_select_features(data, target_column, thresh=0.01) ##TODO: thresh how much"
      ],
      "metadata": {
        "id": "6s6Xid1sOxmb"
      },
      "execution_count": null,
      "outputs": []
    },
    {
      "cell_type": "markdown",
      "source": [
        "# Preprocessing"
      ],
      "metadata": {
        "id": "wbX9v3mdyhj5"
      }
    },
    {
      "cell_type": "code",
      "source": [
        "f_path='/content/drive/MyDrive/Dev_data_to_be_shared[1].csv' #reading the file\n",
        "train_data=pd.read_csv(f_path)\n",
        "f_path_val='/content/drive/MyDrive/validation_data_to_be_shared[1].csv'\n",
        "val_data=pd.read_csv(f_path_val)"
      ],
      "metadata": {
        "id": "D8X_qhI5yBiL"
      },
      "execution_count": null,
      "outputs": []
    },
    {
      "cell_type": "code",
      "source": [
        "preprocess(train_data)\n",
        "columns = train_data.columns.tolist()\n",
        "if 'bad_flag' in columns:\n",
        "    columns.remove('bad_flag')\n",
        "filtered_val_df = val_data[columns] #get the columns which are important from validation set"
      ],
      "metadata": {
        "colab": {
          "base_uri": "https://localhost:8080/"
        },
        "id": "X-Ejpe4myDqJ",
        "outputId": "85f8b1e4-31ae-490d-f552-61aa101503ec"
      },
      "execution_count": null,
      "outputs": [
        {
          "output_type": "stream",
          "name": "stdout",
          "text": [
            "account_number              0.000000\n",
            "bad_flag                    0.000000\n",
            "onus_attribute_1           26.063467\n",
            "transaction_attribute_1    26.063467\n",
            "transaction_attribute_2    26.063467\n",
            "                             ...    \n",
            "onus_attribute_44          88.006942\n",
            "onus_attribute_45          88.006942\n",
            "onus_attribute_46          88.006942\n",
            "onus_attribute_47          88.006942\n",
            "onus_attribute_48          88.006942\n",
            "Length: 1160, dtype: float64\n"
          ]
        }
      ]
    },
    {
      "cell_type": "code",
      "source": [
        "fill_missing(filtered_val_df)"
      ],
      "metadata": {
        "id": "LHQGIJCiQ_fq"
      },
      "execution_count": null,
      "outputs": []
    },
    {
      "cell_type": "code",
      "source": [
        "filtered_val_df.to_csv(\"reduced_val_dataset.csv\", index=False) #save the reduced data"
      ],
      "metadata": {
        "id": "ufhmmxZ80EXG"
      },
      "execution_count": null,
      "outputs": []
    },
    {
      "cell_type": "markdown",
      "source": [
        "# Models"
      ],
      "metadata": {
        "id": "0XfeceXLpIzT"
      }
    },
    {
      "cell_type": "markdown",
      "source": [
        "Ensemble"
      ],
      "metadata": {
        "id": "YExOyy5VpL7o"
      }
    },
    {
      "cell_type": "code",
      "source": [
        "data=pd.read_csv('/content/drive/MyDrive/reduced_dataset with 0.1 thresh.csv')"
      ],
      "metadata": {
        "id": "H01fq8bpky0l"
      },
      "execution_count": null,
      "outputs": []
    },
    {
      "cell_type": "code",
      "source": [
        "X = data.drop(columns=['bad_flag'])  # Replace with your target column\n",
        "y = data['bad_flag']"
      ],
      "metadata": {
        "id": "fcruNkeVms_c"
      },
      "execution_count": null,
      "outputs": []
    },
    {
      "cell_type": "code",
      "source": [
        "X_train, X_test, y_train, y_test = train_test_split(X, y, test_size=0.2, random_state=42)\n"
      ],
      "metadata": {
        "id": "viiQwvQCmvLV"
      },
      "execution_count": null,
      "outputs": []
    },
    {
      "cell_type": "code",
      "source": [
        "models = {\n",
        "    \"37_LightGBM\": {\"model\": LGBMClassifier(random_state=37), \"weight\": 7},\n",
        "    \"39_Xgboost\": {\"model\": XGBClassifier(random_state=39, use_label_encoder=False), \"weight\": 5},\n",
        "    \"41_LightGBM\": {\"model\": LGBMClassifier(random_state=41), \"weight\": 3},\n",
        "    \"5_Default_Xgboost\": {\"model\": XGBClassifier(random_state=5, use_label_encoder=False), \"weight\": 2},\n",
        "    \"6_Default_CatBoost\": {\"model\": CatBoostClassifier(random_state=6, verbose=0), \"weight\": 2},\n",
        "}"
      ],
      "metadata": {
        "id": "bxl43EUsmwsN"
      },
      "execution_count": null,
      "outputs": []
    },
    {
      "cell_type": "code",
      "source": [
        "probabilities = {}\n",
        "for name, details in models.items():\n",
        "    model = details[\"model\"]\n",
        "    print(f\"Training {name}...\")\n",
        "    model.fit(X_train, y_train)\n",
        "    # Store probabilities for the target class 1\n",
        "    probabilities[name] = model.predict_proba(X_test)[:, 1]"
      ],
      "metadata": {
        "colab": {
          "base_uri": "https://localhost:8080/"
        },
        "id": "Qag1aapsntpD",
        "outputId": "5f5cb374-1eba-440b-93e2-c8d5caab94b1"
      },
      "execution_count": null,
      "outputs": [
        {
          "output_type": "stream",
          "name": "stdout",
          "text": [
            "Training 37_LightGBM...\n",
            "[LightGBM] [Info] Number of positive: 1102, number of negative: 76342\n",
            "[LightGBM] [Info] Auto-choosing row-wise multi-threading, the overhead of testing was 0.060636 seconds.\n",
            "You can set `force_row_wise=true` to remove the overhead.\n",
            "And if memory is not enough, you can set `force_col_wise=true`.\n",
            "[LightGBM] [Info] Total Bins 26576\n",
            "[LightGBM] [Info] Number of data points in the train set: 77444, number of used features: 145\n",
            "[LightGBM] [Info] [binary:BoostFromScore]: pavg=0.014230 -> initscore=-4.238097\n",
            "[LightGBM] [Info] Start training from score -4.238097\n",
            "Training 39_Xgboost...\n"
          ]
        },
        {
          "output_type": "stream",
          "name": "stderr",
          "text": [
            "/usr/local/lib/python3.10/dist-packages/xgboost/core.py:158: UserWarning: [11:47:32] WARNING: /workspace/src/learner.cc:740: \n",
            "Parameters: { \"use_label_encoder\" } are not used.\n",
            "\n",
            "  warnings.warn(smsg, UserWarning)\n"
          ]
        },
        {
          "output_type": "stream",
          "name": "stdout",
          "text": [
            "Training 41_LightGBM...\n",
            "[LightGBM] [Info] Number of positive: 1102, number of negative: 76342\n",
            "[LightGBM] [Info] Auto-choosing row-wise multi-threading, the overhead of testing was 0.059851 seconds.\n",
            "You can set `force_row_wise=true` to remove the overhead.\n",
            "And if memory is not enough, you can set `force_col_wise=true`.\n",
            "[LightGBM] [Info] Total Bins 26576\n",
            "[LightGBM] [Info] Number of data points in the train set: 77444, number of used features: 145\n",
            "[LightGBM] [Info] [binary:BoostFromScore]: pavg=0.014230 -> initscore=-4.238097\n",
            "[LightGBM] [Info] Start training from score -4.238097\n",
            "Training 5_Default_Xgboost...\n"
          ]
        },
        {
          "output_type": "stream",
          "name": "stderr",
          "text": [
            "/usr/local/lib/python3.10/dist-packages/xgboost/core.py:158: UserWarning: [11:47:50] WARNING: /workspace/src/learner.cc:740: \n",
            "Parameters: { \"use_label_encoder\" } are not used.\n",
            "\n",
            "  warnings.warn(smsg, UserWarning)\n"
          ]
        },
        {
          "output_type": "stream",
          "name": "stdout",
          "text": [
            "Training 6_Default_CatBoost...\n"
          ]
        }
      ]
    },
    {
      "cell_type": "code",
      "source": [
        "total_weight = sum(details[\"weight\"] for details in models.values())\n",
        "ensemble_probability = np.zeros_like(list(probabilities.values())[0])"
      ],
      "metadata": {
        "id": "KAIFg9d0nvTN"
      },
      "execution_count": null,
      "outputs": []
    },
    {
      "cell_type": "code",
      "source": [
        "for name, details in models.items():\n",
        "    weight = details[\"weight\"]\n",
        "    ensemble_probability += weight * probabilities[name]\n",
        "\n",
        "ensemble_probability /= total_weight"
      ],
      "metadata": {
        "id": "Xoycb0CXnwpu"
      },
      "execution_count": null,
      "outputs": []
    },
    {
      "cell_type": "code",
      "source": [
        "roc_auc = roc_auc_score(y_test, ensemble_probability)\n",
        "logloss = log_loss(y_test, ensemble_probability)\n",
        "mae = mean_absolute_error(y_test, ensemble_probability)\n"
      ],
      "metadata": {
        "id": "fviS8Idgo8Ep"
      },
      "execution_count": null,
      "outputs": []
    },
    {
      "cell_type": "code",
      "source": [
        "print(f\"ROC-AUC Score of the ensemble: {roc_auc:.4f}\")\n",
        "print(f\"Log Loss of the ensemble: {logloss:.4f}\")\n",
        "print(f\"Mean Absolute Error (MAE) of the ensemble: {mae:.4f}\")"
      ],
      "metadata": {
        "colab": {
          "base_uri": "https://localhost:8080/"
        },
        "id": "QvhA1ggGo9a-",
        "outputId": "ef751593-06af-40a0-a432-0394b9697321"
      },
      "execution_count": null,
      "outputs": [
        {
          "output_type": "stream",
          "name": "stdout",
          "text": [
            "ROC-AUC Score of the ensemble: 0.7930\n",
            "Log Loss of the ensemble: 0.0674\n",
            "Mean Absolute Error (MAE) of the ensemble: 0.0232\n"
          ]
        }
      ]
    },
    {
      "cell_type": "code",
      "source": [
        "results_df = pd.DataFrame({\n",
        "    \"Actual\": y_test,\n",
        "    \"Predicted_Probability\": ensemble_probability\n",
        "})\n",
        "results_df.to_csv('results_df_ANOCA150',index=False)"
      ],
      "metadata": {
        "id": "f3jPIlI2o_EH"
      },
      "execution_count": null,
      "outputs": []
    },
    {
      "cell_type": "code",
      "source": [
        "class_0 = results_df[results_df[\"Actual\"] == 0]\n",
        "class_1 = results_df[results_df[\"Actual\"] == 1]"
      ],
      "metadata": {
        "id": "3CETRKlWpC1K"
      },
      "execution_count": null,
      "outputs": []
    },
    {
      "cell_type": "code",
      "source": [
        "import matplotlib.pyplot as plt\n",
        "plt.figure(figsize=(10, 6))\n",
        "plt.scatter(class_0.index, class_0[\"Predicted_Probability\"], color=\"blue\", alpha=0.6, label=\"Label 0\")\n",
        "plt.scatter(class_1.index, class_1[\"Predicted_Probability\"], color=\"orange\", alpha=0.6, label=\"Label 1\")\n"
      ],
      "metadata": {
        "colab": {
          "base_uri": "https://localhost:8080/",
          "height": 539
        },
        "id": "CjwRuwqgpEFI",
        "outputId": "6a707296-e124-47dd-cbf6-32e2df9d1100"
      },
      "execution_count": null,
      "outputs": [
        {
          "output_type": "execute_result",
          "data": {
            "text/plain": [
              "<matplotlib.collections.PathCollection at 0x7c829a468df0>"
            ]
          },
          "metadata": {},
          "execution_count": 99
        },
        {
          "output_type": "display_data",
          "data": {
            "text/plain": [
              "<Figure size 1000x600 with 1 Axes>"
            ],
            "image/png": "[encoded data removed]"
          },
          "metadata": {}
        }
      ]
    },
    {
      "cell_type": "code",
      "source": [
        "ensemble_probability"
      ],
      "metadata": {
        "colab": {
          "base_uri": "https://localhost:8080/"
        },
        "id": "GHnVDRRgrrwO",
        "outputId": "d55b0ec7-d789-4cee-ecd6-58fa28d17518"
      },
      "execution_count": null,
      "outputs": [
        {
          "output_type": "execute_result",
          "data": {
            "text/plain": [
              "array([516.29128858,  43.76115462, 916.20397064, ...,  14.7947981 ,\n",
              "       123.74162342,   1.89518829])"
            ]
          },
          "metadata": {},
          "execution_count": 88
        }
      ]
    },
    {
      "cell_type": "code",
      "source": [
        "threshold=0.5"
      ],
      "metadata": {
        "id": "SHE-OHjKscrD"
      },
      "execution_count": null,
      "outputs": []
    },
    {
      "cell_type": "code",
      "source": [
        "y_pred = (ensemble_probability > threshold).astype(int)"
      ],
      "metadata": {
        "id": "OQJ4IdugsvKc"
      },
      "execution_count": null,
      "outputs": []
    },
    {
      "cell_type": "code",
      "source": [
        "conf_matrix = confusion_matrix(y_test, y_pred)\n",
        "print(\"Confusion Matrix:\")\n",
        "print(conf_matrix)"
      ],
      "metadata": {
        "colab": {
          "base_uri": "https://localhost:8080/"
        },
        "id": "4SMkq9aCsyC2",
        "outputId": "d9022bc3-84c7-43ec-85fa-2b1156413af4"
      },
      "execution_count": null,
      "outputs": [
        {
          "output_type": "stream",
          "name": "stdout",
          "text": [
            "Confusion Matrix:\n",
            "[[18456   636]\n",
            " [  221    49]]\n"
          ]
        }
      ]
    },
    {
      "cell_type": "code",
      "source": [
        "cm_normalized = conf_matrix.astype('float') / conf_matrix.sum(axis=1)[:, np.newaxis]"
      ],
      "metadata": {
        "id": "BNCe5bUvuav-"
      },
      "execution_count": null,
      "outputs": []
    },
    {
      "cell_type": "code",
      "source": [
        "sns.heatmap(cm_normalized, annot=True, cmap='Blues', xticklabels=[0, 1], yticklabels=[0, 1])\n",
        "plt.xlabel('Predicted')\n",
        "plt.ylabel('True')\n",
        "plt.title('Confusion Matrix')\n",
        "plt.show()"
      ],
      "metadata": {
        "colab": {
          "base_uri": "https://localhost:8080/",
          "height": 472
        },
        "id": "2WxrzPrys2gE",
        "outputId": "e5c82203-9350-47d3-d10c-a9cc84b9f68c"
      },
      "execution_count": null,
      "outputs": [
        {
          "output_type": "display_data",
          "data": {
            "text/plain": [
              "<Figure size 640x480 with 2 Axes>"
            ],
            "image/png": "[encoded data removed]"
          },
          "metadata": {}
        }
      ]
    },
    {
      "cell_type": "markdown",
      "source": [
        "Neural Net"
      ],
      "metadata": {
        "id": "kMPSLn50XFvM"
      }
    },
    {
      "cell_type": "code",
      "source": [
        "data = pd.read_csv('/content/drive/MyDrive/reduced_data_autoencoder2.csv')\n",
        "# Remove the last row with NaN values\n",
        "data_cleaned = data.dropna()"
      ],
      "metadata": {
        "id": "sN1zqulws9gs"
      },
      "execution_count": null,
      "outputs": []
    },
    {
      "cell_type": "code",
      "source": [
        "# Split the data into features (X) and target labels (y)\n",
        "X_cleaned = data_cleaned.iloc[:, 1:].values\n",
        "y_cleaned = data_cleaned.iloc[:, 0].values\n"
      ],
      "metadata": {
        "id": "GiObxHHMX0hj"
      },
      "execution_count": null,
      "outputs": []
    },
    {
      "cell_type": "code",
      "source": [
        "\n",
        "# Split into training, validation, and test sets\n",
        "X_train, X_temp, y_train, y_temp = train_test_split(\n",
        "    X_cleaned, y_cleaned, test_size=0.4, random_state=42\n",
        ")\n",
        "X_val, X_test, y_val, y_test = train_test_split(\n",
        "    X_temp, y_temp, test_size=0.5, random_state=42\n",
        ")\n"
      ],
      "metadata": {
        "id": "5ArxXkDrYTTJ"
      },
      "execution_count": null,
      "outputs": []
    },
    {
      "cell_type": "code",
      "source": [
        "# Scale the data for Neural Network training\n",
        "scaler = StandardScaler()\n",
        "X_train_scaled = scaler.fit_transform(X_train)\n",
        "X_val_scaled = scaler.transform(X_val)\n",
        "X_test_scaled = scaler.transform(X_test)\n"
      ],
      "metadata": {
        "id": "cV0cgjE7YXDl"
      },
      "execution_count": null,
      "outputs": []
    },
    {
      "cell_type": "code",
      "source": [
        "# Convert the data to PyTorch tensors\n",
        "X_train_tensor = torch.tensor(X_train_scaled, dtype=torch.float32)\n",
        "X_val_tensor = torch.tensor(X_val_scaled, dtype=torch.float32)\n",
        "X_test_tensor = torch.tensor(X_test_scaled, dtype=torch.float32)\n",
        "y_train_tensor = torch.tensor(y_train, dtype=torch.float32).view(-1, 1)\n",
        "y_val_tensor = torch.tensor(y_val, dtype=torch.float32).view(-1, 1)\n",
        "y_test_tensor = torch.tensor(y_test, dtype=torch.float32).view(-1, 1)\n"
      ],
      "metadata": {
        "id": "1F0fgTrTYXy8"
      },
      "execution_count": null,
      "outputs": []
    },
    {
      "cell_type": "code",
      "source": [
        "# Define the Neural Network model\n",
        "class FeedforwardNN(nn.Module):\n",
        "    def _init_(self, input_dim):\n",
        "        super(FeedforwardNN, self)._init_()\n",
        "        self.layer1 = nn.Linear(input_dim, 64)  # First hidden layer with 64 units\n",
        "        self.layer2 = nn.Linear(64, 32)         # Second hidden layer with 32 units\n",
        "        self.layer3 = nn.Linear(32, 32)         # Third hidden layer with 32 units\n",
        "        self.layer4 = nn.Linear(32, 16)         # Fourth hidden layer with 16 units\n",
        "        self.output_layer = nn.Linear(16, 1)    # Output layer with a single neuron\n",
        "\n",
        "    def forward(self, x):\n",
        "        x = torch.relu(self.layer1(x))  # ReLU activation on the first hidden layer\n",
        "        x = torch.relu(self.layer2(x))  # ReLU activation on the second hidden layer\n",
        "        x = torch.relu(self.layer3(x))  # ReLU activation on the third hidden layer\n",
        "        x = torch.relu(self.layer4(x))  # ReLU activation on the fourth hidden layer\n",
        "        x = self.output_layer(x)        # Linear output (no activation function)\n",
        "        x = torch.sigmoid(x)            # Sigmoid activation for probabilities\n",
        "        return x\n"
      ],
      "metadata": {
        "id": "aH0LCC0oYfsM"
      },
      "execution_count": null,
      "outputs": []
    },
    {
      "cell_type": "code",
      "source": [
        "# Initialize the model\n",
        "input_dim = X_train_scaled.shape[1]\n",
        "model = FeedforwardNN(input_dim)\n",
        "# Define loss function and optimizer\n",
        "criterion_mse = nn.MSELoss()  # Mean Squared Error loss for regression\n",
        "criterion_mae = nn.L1Loss()   # Mean Absolute Error loss for validation\n",
        "optimizer = optim.Adam(model.parameters(), lr=0.001)"
      ],
      "metadata": {
        "id": "RAccFrL6YhUL"
      },
      "execution_count": null,
      "outputs": []
    },
    {
      "cell_type": "code",
      "source": [
        "# Train the model\n",
        "num_epochs = 5000\n",
        "train_losses = []\n",
        "val_losses = []\n",
        "for epoch in range(num_epochs):\n",
        "    model.train()  # Set the model to training mode\n",
        "    optimizer.zero_grad()  # Zero the gradients\n",
        "    y_train_pred = model(X_train_tensor)  # Forward pass\n",
        "    loss = criterion_mse(y_train_pred, y_train_tensor)  # Compute MSE loss for training\n",
        "    loss.backward()  # Backpropagate the gradients\n",
        "    optimizer.step()  # Update the weights\n",
        "\n",
        "    # Record training loss\n",
        "    train_losses.append(loss.item())\n",
        "\n",
        "    # Validation loss using MAE\n",
        "    model.eval()  # Set the model to evaluation mode\n",
        "    with torch.no_grad():  # No gradients needed for validation\n",
        "        y_val_pred = model(X_val_tensor)\n",
        "        val_loss = criterion_mae(y_val_pred, y_val_tensor)  # Compute MAE for validation\n",
        "        val_losses.append(val_loss.item())\n",
        "\n",
        "    if (epoch + 1) % 5 == 0:\n",
        "        print(f\"Epoch [{epoch + 1}/{num_epochs}], Train Loss: {loss.item():.4f}, Validation Loss: {val_loss.item():.4f}\")\n",
        "\n",
        "# Make predictions on the test set\n",
        "model.eval()  # Set the model to evaluation mode\n",
        "with torch.no_grad():\n",
        "    y_pred_prob = model(X_test_tensor).numpy()\n",
        "\n",
        "# Evaluate the model\n",
        "mse = mean_squared_error(y_test, y_pred_prob)\n",
        "print(f'\\nMean Squared Error (MSE): {mse:.4f}')\n",
        "\n",
        "# Create a DataFrame with predicted probabilities and actual labels\n",
        "results_df = pd.DataFrame({\n",
        "    'True_Label': y_test,\n",
        "    'Predicted_Prob': y_pred_prob.flatten()\n",
        "})\n"
      ],
      "metadata": {
        "id": "JpieJr0jYjix"
      },
      "execution_count": null,
      "outputs": []
    },
    {
      "cell_type": "code",
      "source": [
        "\n",
        "# Plot the training and validation losses over epochs\n",
        "plt.figure(figsize=(12, 6))\n",
        "plt.plot(train_losses, label='Train Loss')\n",
        "plt.plot(val_losses, label='Validation Loss (MAE)')\n",
        "plt.title('Loss over epochs')\n",
        "plt.xlabel('Epoch')\n",
        "plt.ylabel('Loss')\n",
        "plt.legend()\n",
        "plt.show()\n"
      ],
      "metadata": {
        "id": "Zp9wzH9YYouX"
      },
      "execution_count": null,
      "outputs": []
    },
    {
      "cell_type": "code",
      "source": [
        "plt.figure(figsize=(10, 6))\n",
        "# For true label 1, show predicted labels in red\n",
        "plt.scatter(range(len(y_test[y_test == 1])), y_pred_prob.flatten()[y_test == 1], color='red', label='Predicted Labels (True Label = 1)', alpha=0.5)\n",
        "plt.scatter(range(len(y_test[y_test == 0])), y_pred_prob.flatten()[y_test == 0], color='green', label='Predicted Labels (True Label = 0)', alpha=0.5)\n",
        "plt.xlabel('Sample Index')\n",
        "plt.ylabel('Predicted Probability')\n",
        "plt.title('Neural Network Predictions vs True Labels')\n",
        "plt.legend()\n",
        "plt.show()"
      ],
      "metadata": {
        "id": "BJrEZAslYz_A"
      },
      "execution_count": null,
      "outputs": []
    }
  ]
}